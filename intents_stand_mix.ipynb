{
 "cells": [
  {
   "cell_type": "code",
   "execution_count": 1,
   "id": "f7f9cb93-5bcb-45c7-ab8f-3b412304df8b",
   "metadata": {},
   "outputs": [],
   "source": [
    "from ortools.linear_solver import pywraplp"
   ]
  },
  {
   "cell_type": "code",
   "execution_count": 6,
   "id": "ec8a23d4-c5a4-4ad9-bc9d-8cebb318d630",
   "metadata": {},
   "outputs": [],
   "source": [
    "# Create the solver\n",
    "solver = pywraplp.Solver.CreateSolver('SCIP')\n",
    "\n",
    "# Define available resources\n",
    "resources = ['a', 'b', 'c', 'd', 'e', 'f', 'g']\n",
    "\n",
    "# Define test intents\n",
    "# Note: 'have_exprs' and 'want_exprs' are lists of lists representing the 'xor' expressions\n",
    "# For example, 'have_exprs': [{'a': 3, 'b': 5}, {'a': 2, 'd': 1}] means \"(3a or 5b) xor (2a or 1d)\"\n",
    "intents = [\n",
    "    {'weight': 1.0, 'have': [{'a': 3, 'b': 4, 'c': 5}, {'a': 2}, {'e': 3, 'g': 1}],\n",
    "     'want': [{'d': 3}, {'f': 1}],\n",
    "     'resource_weights': {'a': 1.0, 'b': 0.5, 'c': 0.6, 'd': 0.9, 'e': 0.5, 'f': 1.0, 'g': 0.85}\n",
    "     },\n",
    "    {'weight': 2.0, 'have': [{'c': 2, 'd': 1}, {'e': 4}, {'f': 2}],\n",
    "     'want': [{'a': 2, 'b':1}, {'b': 1, 'f': 2}],\n",
    "     'resource_weights': {'a': 0.7, 'b': 0.2, 'c': 0.9, 'd': 0.9, 'e': 0.85, 'f': 1.0}\n",
    "    },\n",
    "]"
   ]
  },
  {
   "cell_type": "code",
   "execution_count": 7,
   "id": "b1e106a0-22de-43c1-be31-7b27e37b7946",
   "metadata": {},
   "outputs": [],
   "source": [
    "def resources_in_have(intent):\n",
    "    unique_resources = set()\n",
    "    for option in intent['have']:\n",
    "        unique_resources.update(option.keys())\n",
    "    return list(unique_resources)\n",
    "\n",
    "def resources_in_want(intent):\n",
    "    unique_resources = set()\n",
    "    for option in intent['want']:\n",
    "        unique_resources.update(option.keys())\n",
    "    return list(unique_resources)\n",
    "resources_in_have = [resources_in_have(intent) for intent in intents]\n",
    "resources_in_want = [resources_in_want(intent) for intent in intents]\n",
    "\n",
    "have_choice_vars = []\n",
    "want_choice_vars = []\n",
    "have_qty_vars = []\n",
    "want_qty_vars = []\n",
    "\n",
    "# Declare variables\n",
    "for i, intent in enumerate(intents):\n",
    "    # 1. Boolean variables for each \"have\" option\n",
    "    have_bools = [solver.BoolVar(f\"have_choice_{i}_{j}\") for j in range(len(intent['have']))]\n",
    "    have_choice_vars.append(have_bools)\n",
    "    \n",
    "    # 2. Boolean variables for each \"want\" option\n",
    "    want_bools = [solver.BoolVar(f\"want_choice_{i}_{k}\") for k in range(len(intent['want']))]\n",
    "    want_choice_vars.append(want_bools)\n",
    "    \n",
    "    # 3. Integer variables for each resource traded away\n",
    "    have_qty = {r: solver.IntVar(0, max_qty, f\"have_qty_{i}_{r}\") for option in intent['have'] for r, max_qty in option.items()}\n",
    "    have_qty_vars.append(have_qty)\n",
    "    \n",
    "    # 4. Integer variables for each resource received\n",
    "    want_qty = {r: solver.IntVar(0, qty, f\"want_qty_{i}_{r}\") for option in intent['want'] for r, qty in option.items()}\n",
    "    want_qty_vars.append(want_qty)\n",
    "\n",
    "\n",
    "# Declare constraints\n",
    "# For each intent, we'll ensure that at most one \"have\" and one \"want\" boolean can be true, and they must coincide.\n",
    "for i in range(len(intents)):\n",
    "    solver.Add(solver.Sum(have_choice_vars[i]) <= 1)\n",
    "    solver.Add(solver.Sum(want_choice_vars[i]) <= 1)\n",
    "    solver.Add(solver.Sum(have_choice_vars[i]) == solver.Sum(want_choice_vars[i]))\n",
    "\n",
    "# Link \"have\" and \"want\" quantities to their choice variables\n",
    "for i, intent in enumerate(intents):\n",
    "    for j, have_option in enumerate(intent['have']):\n",
    "        for r in resources_in_have[i]:\n",
    "            solver.Add(have_qty_vars[i][r] <= sum(option.get(r, 0) * have_choice_vars[i][j] for j, option in enumerate(intent['have'])))\n",
    "    \n",
    "    for k, want_option in enumerate(intent['want']):\n",
    "        for r in resources_in_want[i]:\n",
    "            solver.Add(want_qty_vars[i][r] == sum(option.get(r, 0) * want_choice_vars[i][j] for j, option in enumerate(intent['want'])))\n",
    "\n",
    "# Conservation of each resource\n",
    "for resource in resources:\n",
    "    inflow = solver.Sum(have_qty_vars[i].get(resource, 0) for i in range(len(intents)))\n",
    "    outflow = solver.Sum(want_qty_vars[i].get(resource, 0) for i in range(len(intents)))\n",
    "    solver.Add(inflow == outflow)\n",
    "\n",
    "# Declare objective\n",
    "objective = solver.Objective()\n",
    "\n",
    "for i, intent in enumerate(intents):\n",
    "    for r, qty_var in have_qty_vars[i].items():\n",
    "        coef = intent['weight'] / intent['resource_weights'].get(r, 1)\n",
    "        objective.SetCoefficient(qty_var, coef)\n",
    "\n",
    "    for r, qty_var in want_qty_vars[i].items():\n",
    "        coef = intent['weight'] * intent['resource_weights'].get(r, 1)\n",
    "        objective.SetCoefficient(qty_var, coef)\n",
    "\n",
    "objective.SetMaximization()"
   ]
  },
  {
   "cell_type": "code",
   "execution_count": 8,
   "id": "79b892a9-9bb0-4ddc-9526-956c53575871",
   "metadata": {},
   "outputs": [],
   "source": [
    "# Solve the problem\n",
    "status = solver.Solve()"
   ]
  },
  {
   "cell_type": "code",
   "execution_count": 9,
   "id": "366c08c1-e3ea-49d5-bd56-67fcdb4d68d2",
   "metadata": {},
   "outputs": [
    {
     "name": "stdout",
     "output_type": "stream",
     "text": [
      "Objective value = 10.2\n",
      "Intent 1 trades 2.0 a and 1.0 b for 1.0 f\n",
      "Intent 2 trades 1.0 f for 2.0 a and 1.0 b\n"
     ]
    }
   ],
   "source": [
    "if status == pywraplp.Solver.OPTIMAL:\n",
    "    print(f\"Objective value = {objective.Value()}\")\n",
    "    for i, intent in enumerate(intents):\n",
    "        if sum(var.solution_value() for var in have_choice_vars[i]) == 1 and sum(var.solution_value() for var in want_choice_vars[i]) == 1:\n",
    "            traded_haves = []\n",
    "            traded_wants = []\n",
    "            for resource, var in have_qty_vars[i].items():\n",
    "                if var.solution_value() > 0:\n",
    "                    traded_haves.append(f\"{var.solution_value()} {resource}\")\n",
    "            for resource, var in want_qty_vars[i].items():\n",
    "                if var.solution_value() > 0:\n",
    "                    traded_wants.append(f\"{var.solution_value()} {resource}\")\n",
    "            print(f\"Intent {i + 1} trades {' and '.join(traded_haves)} for {' and '.join(traded_wants)}\")\n",
    "else:\n",
    "    print(\"The problem does not have an optimal solution.\")"
   ]
  },
  {
   "cell_type": "code",
   "execution_count": null,
   "id": "cf5736ff-eba7-4276-94d5-330443c7a0d3",
   "metadata": {},
   "outputs": [],
   "source": []
  }
 ],
 "metadata": {
  "kernelspec": {
   "display_name": "Python 3 (ipykernel)",
   "language": "python",
   "name": "python3"
  },
  "language_info": {
   "codemirror_mode": {
    "name": "ipython",
    "version": 3
   },
   "file_extension": ".py",
   "mimetype": "text/x-python",
   "name": "python",
   "nbconvert_exporter": "python",
   "pygments_lexer": "ipython3",
   "version": "3.10.12"
  }
 },
 "nbformat": 4,
 "nbformat_minor": 5
}
