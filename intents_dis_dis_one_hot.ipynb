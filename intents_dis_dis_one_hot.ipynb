{
 "cells": [
  {
   "cell_type": "code",
   "execution_count": 1,
   "id": "b9c764bb-718f-4670-bb2e-2d6f1f2f71d5",
   "metadata": {},
   "outputs": [],
   "source": [
    "from ortools.linear_solver import pywraplp"
   ]
  },
  {
   "cell_type": "code",
   "execution_count": 2,
   "id": "c5d8cae0-6f3f-4f23-a1d0-1a9e9491b250",
   "metadata": {},
   "outputs": [],
   "source": [
    "# Define available resources\n",
    "resources = ['A1', 'A2', 'B1', 'B2', 'C1', 'C2']\n",
    "\n",
    "# Define the intents.\n",
    "# For have, the first value is the amount to trade and the second is how much the intent holder values that resource.\n",
    "# These are interpreted as exclusive possible trades; one thing gets traded for one other thing, and only one of the two options.\n",
    "intents = [\n",
    "    #intentA\n",
    "    {'weight': 1.0, 'have': {'A1': (1, 1.0), 'A2': (1, 0.5)}, \n",
    "                    'want': {'C1': (1, 1.0), 'B2': (1, 1.0)}},\n",
    "    #intentB\n",
    "    {'weight': 1.0, 'have': {'B1': (1, 0.5), 'B2': (1, 1.0)}, \n",
    "                    'want': {'C2': (1, 1.0), 'A2': (1, 0.2)}},\n",
    "    #intentC\n",
    "    {'weight': 1.0, 'have': {'C1': (1, 1.0), 'C2': (1, 1.0)}, \n",
    "                    'want': {'B1': (1, 1.0), 'A1': (1, 1.0)}},\n",
    "]"
   ]
  },
  {
   "cell_type": "code",
   "execution_count": 3,
   "id": "bd3735cc-30bc-45d9-9c32-7d4cdfd09941",
   "metadata": {},
   "outputs": [],
   "source": [
    "# Initialize the solver\n",
    "solver = pywraplp.Solver.CreateSolver('SCIP')\n",
    "\n",
    "# Objective function\n",
    "objective = solver.Objective()\n",
    "\n",
    "# Create decision variables\n",
    "have_vars = {}\n",
    "want_vars = {}\n",
    "\n",
    "for i, intent in enumerate(intents):\n",
    "    for have in intent['have']:\n",
    "        have_vars[f\"h_{i}_{have}\"] = solver.BoolVar(f\"h_{i}_{have}\")\n",
    "    for want in intent['want']:\n",
    "        want_vars[f\"w_{i}_{want}\"] = solver.BoolVar(f\"w_{i}_{want}\")\n",
    "\n",
    "# Add constraints that only one 'have' and one 'want' can be selected for each intent\n",
    "for i, intent in enumerate(intents):\n",
    "    have_sum = sum(have_vars[f\"h_{i}_{have}\"] for have in intent['have'])\n",
    "    want_sum = sum(want_vars[f\"w_{i}_{want}\"] for want in intent['want'])\n",
    "    solver.Add(have_sum <= 1)\n",
    "    solver.Add(want_sum <= 1)\n",
    "    solver.Add(have_sum == want_sum)\n",
    "\n",
    "# Conservation laws for each resource\n",
    "for resource in resources:\n",
    "    inflow = sum(qty * have_vars[f\"h_{i}_{have}\"] for i, intent in enumerate(intents) for have, (qty, _) in intent['have'].items() if have == resource)\n",
    "    outflow = sum(qty * want_vars[f\"w_{i}_{want}\"] for i, intent in enumerate(intents) for want, (qty, _) in intent['want'].items() if want == resource)\n",
    "    solver.Add(inflow == outflow)\n",
    "    \n",
    "# Objective function\n",
    "objective = solver.Objective()\n",
    "for i, intent in enumerate(intents):\n",
    "    for have, (_, have_weight) in intent['have'].items():\n",
    "        for want, (_, want_weight) in intent['want'].items():\n",
    "            have_coefficient = intent['weight'] * (1/have_weight)\n",
    "            objective.SetCoefficient(have_vars[f\"h_{i}_{have}\"], have_coefficient)\n",
    "            want_coefficient = intent['weight'] * want_weight\n",
    "            objective.SetCoefficient(want_vars[f\"w_{i}_{want}\"], want_coefficient)\n",
    "\n",
    "\n",
    "# Set objective function to maximize\n",
    "objective.SetMaximization()"
   ]
  },
  {
   "cell_type": "code",
   "execution_count": 4,
   "id": "71025536-2623-447f-be3b-0b64ea62680c",
   "metadata": {},
   "outputs": [],
   "source": [
    "# Solve the problem\n",
    "status = solver.Solve()"
   ]
  },
  {
   "cell_type": "code",
   "execution_count": 5,
   "id": "16d8d358-3788-4061-810c-8c56d7563912",
   "metadata": {},
   "outputs": [
    {
     "name": "stdout",
     "output_type": "stream",
     "text": [
      "Objective value = 7.2\n",
      "Intent 1 gives A2\n",
      "Intent 1 receives C1\n",
      "Intent 2 gives B1\n",
      "Intent 2 receives A2\n",
      "Intent 3 gives C1\n",
      "Intent 3 receives B1\n"
     ]
    }
   ],
   "source": [
    "# Output results\n",
    "if status == pywraplp.Solver.OPTIMAL or status == pywraplp.Solver.FEASIBLE:\n",
    "    print(f\"Objective value = {solver.Objective().Value()}\")\n",
    "    \n",
    "    for i, intent in enumerate(intents):\n",
    "        for have in intent['have']:\n",
    "            if have_vars[f\"h_{i}_{have}\"].solution_value() > 0:\n",
    "                print(f\"Intent {i+1} gives {have}\")\n",
    "        \n",
    "        for want in intent['want']:\n",
    "            if want_vars[f\"w_{i}_{want}\"].solution_value() > 0:\n",
    "                print(f\"Intent {i+1} receives {want}\")\n",
    "else:\n",
    "    print(\"The problem does not have a solution.\")"
   ]
  },
  {
   "cell_type": "code",
   "execution_count": null,
   "id": "8ee4d606-5c40-47e7-9afd-f64fc08b8d21",
   "metadata": {},
   "outputs": [],
   "source": []
  }
 ],
 "metadata": {
  "kernelspec": {
   "display_name": "Python 3 (ipykernel)",
   "language": "python",
   "name": "python3"
  },
  "language_info": {
   "codemirror_mode": {
    "name": "ipython",
    "version": 3
   },
   "file_extension": ".py",
   "mimetype": "text/x-python",
   "name": "python",
   "nbconvert_exporter": "python",
   "pygments_lexer": "ipython3",
   "version": "3.10.12"
  }
 },
 "nbformat": 4,
 "nbformat_minor": 5
}
