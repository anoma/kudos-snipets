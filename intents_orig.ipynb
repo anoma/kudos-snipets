{
 "cells": [
  {
   "cell_type": "code",
   "execution_count": 12,
   "id": "b9c764bb-718f-4670-bb2e-2d6f1f2f71d5",
   "metadata": {},
   "outputs": [],
   "source": [
    "from ortools.linear_solver import pywraplp"
   ]
  },
  {
   "cell_type": "code",
   "execution_count": 21,
   "id": "c5d8cae0-6f3f-4f23-a1d0-1a9e9491b250",
   "metadata": {},
   "outputs": [],
   "source": [
    "# Define available resources\n",
    "resources = ['A', 'B', 'C']\n",
    "\n",
    "# Define the intents.\n",
    "# For have, the first value is the amount we're willing to trade and the second is how much the trader values that resource if its possible to avoid trading all of them.\n",
    "intents = [\n",
    "    {'weight': 1.5, 'have': {'A': (3, 2.0), 'B': (4, 1.0)}, 'want': {'C': 2}},\n",
    "    {'weight': 2.0, 'have': {'C': (2, 1.0)}, 'want': {'A': 1, 'B': 3}},\n",
    "]"
   ]
  },
  {
   "cell_type": "code",
   "execution_count": 22,
   "id": "bd3735cc-30bc-45d9-9c32-7d4cdfd09941",
   "metadata": {},
   "outputs": [],
   "source": [
    "# Create the solver\n",
    "solver = pywraplp.Solver.CreateSolver('SCIP')\n",
    "\n",
    "# Create variables and constraints for each intent\n",
    "objective = solver.Objective()\n",
    "x_vars = [] # List to store the binary variables for each intent\n",
    "for intent in intents:\n",
    "    x = solver.BoolVar('') # Binary variable for the intent\n",
    "    x_vars.append(x)\n",
    "    objective.SetCoefficient(x, intent['weight'])\n",
    "\n",
    "    maximal_trade_expr = sum(value * amount for resource, (amount, value) in intent['have'].items())\n",
    "    actual_trade_expr = 0\n",
    "    \n",
    "    # Outflow variables and constraints for each resource\n",
    "    for resource, amount in intent['want'].items():\n",
    "        inflow = solver.IntVar(0, amount, '')\n",
    "        solver.Add(inflow == amount * x)\n",
    "    \n",
    "    # Outflow variables and constraints for each resource\n",
    "    outflow_vars_for_intent = {} # Dictionary to store outflow variables for this intent\n",
    "    for resource, (amount, value) in intent['have'].items():\n",
    "        outflow = solver.IntVar(0, amount, '')\n",
    "        solver.Add(outflow >= 0)\n",
    "        solver.Add(outflow <= amount * x)\n",
    "        outflow_vars_for_intent[resource] = outflow\n",
    "        actual_trade_expr += outflow * value\n",
    "    \n",
    "    # Minimize traded items weighted by intent preferences\n",
    "    ratio = solver.NumVar(0, 1, 'ratio')\n",
    "    solver.Add(ratio == actual_trade_expr / maximal_trade_expr)\n",
    "    objective.SetCoefficient(ratio, -0.5)\n",
    "    \n",
    "    intent['outflow_vars'] = outflow_vars_for_intent # Add to the intent dictionary\n",
    "\n",
    "# Constraints for conservation of flow\n",
    "for resource in resources:\n",
    "    outflow_expr = sum(intent['want'].get(resource, 0) * x for intent, x in zip(intents, x_vars))\n",
    "    inflow_expr = sum(intent['outflow_vars'][resource] for intent in intents if resource in intent['outflow_vars'])\n",
    "    solver.Add(outflow_expr == inflow_expr)\n",
    "\n",
    "# Set the objective\n",
    "objective.SetMaximization()"
   ]
  },
  {
   "cell_type": "code",
   "execution_count": 23,
   "id": "71025536-2623-447f-be3b-0b64ea62680c",
   "metadata": {},
   "outputs": [],
   "source": [
    "# Solve the problem\n",
    "status = solver.Solve()"
   ]
  },
  {
   "cell_type": "code",
   "execution_count": 24,
   "id": "16d8d358-3788-4061-810c-8c56d7563912",
   "metadata": {},
   "outputs": [
    {
     "name": "stdout",
     "output_type": "stream",
     "text": [
      "Objective value = 2.75\n",
      "Intent 0: Satisfied\n",
      "Outflows:\n",
      "  A: 1.0\n",
      "  B: 3.0\n",
      "Intent 1: Satisfied\n",
      "Outflows:\n",
      "  C: 2.0\n"
     ]
    }
   ],
   "source": [
    "# Print the results\n",
    "if status == pywraplp.Solver.OPTIMAL:\n",
    "    print('Objective value =', solver.Objective().Value())\n",
    "    for i, intent in enumerate(intents):\n",
    "        satisfied = x_vars[i].solution_value()\n",
    "        print(f\"Intent {i}: {'Satisfied' if satisfied else 'Not satisfied'}\")\n",
    "        if satisfied:\n",
    "            print(\"Outflows:\")\n",
    "            for resource, outflow in intent['outflow_vars'].items():\n",
    "                print(f\"  {resource}: {outflow.solution_value()}\")\n",
    "else:\n",
    "    print('The problem does not have an optimal solution.')"
   ]
  },
  {
   "cell_type": "code",
   "execution_count": null,
   "id": "6a707883-7eaa-4f5c-a458-f3b2bc5db701",
   "metadata": {},
   "outputs": [],
   "source": []
  }
 ],
 "metadata": {
  "kernelspec": {
   "display_name": "Python 3 (ipykernel)",
   "language": "python",
   "name": "python3"
  },
  "language_info": {
   "codemirror_mode": {
    "name": "ipython",
    "version": 3
   },
   "file_extension": ".py",
   "mimetype": "text/x-python",
   "name": "python",
   "nbconvert_exporter": "python",
   "pygments_lexer": "ipython3",
   "version": "3.10.12"
  }
 },
 "nbformat": 4,
 "nbformat_minor": 5
}
