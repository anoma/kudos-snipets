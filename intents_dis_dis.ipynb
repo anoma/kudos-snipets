{
 "cells": [
  {
   "cell_type": "code",
   "execution_count": 1,
   "id": "b9c764bb-718f-4670-bb2e-2d6f1f2f71d5",
   "metadata": {},
   "outputs": [],
   "source": [
    "from ortools.linear_solver import pywraplp"
   ]
  },
  {
   "cell_type": "code",
   "execution_count": 2,
   "id": "c5d8cae0-6f3f-4f23-a1d0-1a9e9491b250",
   "metadata": {},
   "outputs": [],
   "source": [
    "# Define available resources\n",
    "resources = ['A1', 'A2', 'B1', 'B2', 'C1', 'C2']\n",
    "\n",
    "# Define the intents.\n",
    "# For have, the first value is the amount to trade and the second is how much the intent holder values that resource.\n",
    "# These are interpreted as exclusive possible trades; one thing gets traded for one other thing, and only one of the two options.\n",
    "intents = [\n",
    "    #intentA\n",
    "    {'weight': 1.0, 'have': {'A1': (1, 1.0), 'A2': (1, 0.5)}, \n",
    "                    'want': {'C1': (1, 1.0), 'B2': (1, 1.0)}},\n",
    "    #intentB\n",
    "    {'weight': 1.0, 'have': {'B1': (1, 0.5), 'B2': (1, 1.0)}, \n",
    "                    'want': {'C2': (1, 1.0), 'A2': (1, 0.2)}},\n",
    "    #intentC\n",
    "    {'weight': 1.0, 'have': {'C1': (1, 1.0), 'C2': (1, 1.0)}, \n",
    "                    'want': {'B1': (1, 1.0), 'A1': (1, 1.0)}},\n",
    "]"
   ]
  },
  {
   "cell_type": "code",
   "execution_count": 3,
   "id": "bd3735cc-30bc-45d9-9c32-7d4cdfd09941",
   "metadata": {},
   "outputs": [],
   "source": [
    "# Initialize the solver\n",
    "solver = pywraplp.Solver.CreateSolver('SCIP')\n",
    "\n",
    "# Objective function\n",
    "objective = solver.Objective()\n",
    "\n",
    "# Variables to store each intent trade\n",
    "x = {}\n",
    "for i, intent in enumerate(intents):\n",
    "    for have in intent['have']:\n",
    "        for want in intent['want']:\n",
    "            x[f\"x_{i}_{have}_{want}\"] = solver.BoolVar(f\"x_{i}_{have}_{want}\")\n",
    "\n",
    "# Conservation laws for each resource\n",
    "for resource in resources:\n",
    "    inflow = sum(qty * x[f\"x_{i}_{have}_{want}\"] for i, intent in enumerate(intents) for have, (qty, _) in intent['have'].items() if have == resource for want in intent['want'])\n",
    "    outflow = sum(qty * x[f\"x_{i}_{have}_{want}\"] for i, intent in enumerate(intents) for want, (qty, _) in intent['want'].items() if want == resource for have in intent['have'])\n",
    "    solver.Add(inflow == outflow)\n",
    "\n",
    "# One trade per intent\n",
    "for i, intent in enumerate(intents):\n",
    "    solver.Add(sum(x[f\"x_{i}_{have}_{want}\"] for have in intent['have'] for want in intent['want']) <= 1)\n",
    "\n",
    "# Objective function\n",
    "objective = solver.Objective()\n",
    "for i, intent in enumerate(intents):\n",
    "    for have, (have_qty, have_weight) in intent['have'].items():\n",
    "        for want, (want_qty, want_weight) in intent['want'].items():\n",
    "            coefficient = intent['weight'] * (1 / have_weight) * want_weight\n",
    "            objective.SetCoefficient(x[f\"x_{i}_{have}_{want}\"], coefficient)\n",
    "\n",
    "# Set objective function to maximize the weighted boolean variables\n",
    "objective.SetMaximization()"
   ]
  },
  {
   "cell_type": "code",
   "execution_count": 4,
   "id": "71025536-2623-447f-be3b-0b64ea62680c",
   "metadata": {},
   "outputs": [],
   "source": [
    "# Solve the problem\n",
    "status = solver.Solve()"
   ]
  },
  {
   "cell_type": "code",
   "execution_count": 6,
   "id": "16d8d358-3788-4061-810c-8c56d7563912",
   "metadata": {},
   "outputs": [
    {
     "name": "stdout",
     "output_type": "stream",
     "text": [
      "Objective value = 3.4000000000000004\n",
      "Intent 1 trades A2 for C1\n",
      "Intent 2 trades B1 for A2\n",
      "Intent 3 trades C1 for B1\n"
     ]
    }
   ],
   "source": [
    "# Output results\n",
    "if status == pywraplp.Solver.OPTIMAL:\n",
    "    print(f\"Objective value = {objective.Value()}\")\n",
    "    for i, intent in enumerate(intents):\n",
    "        for have in intent['have']:\n",
    "            for want in intent['want']:\n",
    "                if x[f\"x_{i}_{have}_{want}\"].solution_value() > 0:\n",
    "                    print(f\"Intent {i + 1} trades {have} for {want}\")\n",
    "else:\n",
    "    print(\"The problem does not have an optimal solution.\")"
   ]
  }
 ],
 "metadata": {
  "kernelspec": {
   "display_name": "Python 3 (ipykernel)",
   "language": "python",
   "name": "python3"
  },
  "language_info": {
   "codemirror_mode": {
    "name": "ipython",
    "version": 3
   },
   "file_extension": ".py",
   "mimetype": "text/x-python",
   "name": "python",
   "nbconvert_exporter": "python",
   "pygments_lexer": "ipython3",
   "version": "3.10.12"
  }
 },
 "nbformat": 4,
 "nbformat_minor": 5
}
